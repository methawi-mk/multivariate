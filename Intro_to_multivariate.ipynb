{
  "nbformat": 4,
  "nbformat_minor": 0,
  "metadata": {
    "colab": {
      "name": "Intro to multivariate.ipynb",
      "provenance": [],
      "authorship_tag": "ABX9TyO0QZK6qgVg6VzAoO3IicVN",
      "include_colab_link": true
    },
    "kernelspec": {
      "name": "python3",
      "display_name": "Python 3"
    }
  },
  "cells": [
    {
      "cell_type": "markdown",
      "metadata": {
        "id": "view-in-github",
        "colab_type": "text"
      },
      "source": [
        "<a href=\"https://colab.research.google.com/github/methawi-mk/multivariate/blob/main/Intro_to_multivariate.ipynb\" target=\"_parent\"><img src=\"https://colab.research.google.com/assets/colab-badge.svg\" alt=\"Open In Colab\"/></a>"
      ]
    },
    {
      "cell_type": "markdown",
      "metadata": {
        "id": "mAYj_iN5-K-v"
      },
      "source": [
        "เมธาวี แก้วคำมี ID 6230210530"
      ]
    },
    {
      "cell_type": "code",
      "metadata": {
        "colab": {
          "base_uri": "https://localhost:8080/"
        },
        "id": "h_BSb10G-RXF",
        "outputId": "90cd53ed-4bb7-45cd-db50-3c3c7e04b40c"
      },
      "source": [
        "print('เมธาวี') #single quote (') ใช้ล้อมรอบข้อความ"
      ],
      "execution_count": null,
      "outputs": [
        {
          "output_type": "stream",
          "text": [
            "เมธาวี\n"
          ],
          "name": "stdout"
        }
      ]
    }
  ]
}